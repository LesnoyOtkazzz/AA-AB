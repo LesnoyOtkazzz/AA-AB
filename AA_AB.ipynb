{
 "cells": [
  {
   "cell_type": "code",
   "execution_count": 1,
   "id": "9794228a",
   "metadata": {},
   "outputs": [],
   "source": [
    "import numpy as np\n",
    "import pandas as pd\n",
    "import plotly.express as pl\n",
    "from scipy.stats import ttest_ind,t,ttest_1samp"
   ]
  },
  {
   "cell_type": "code",
   "execution_count": 8,
   "id": "4ce719f6",
   "metadata": {},
   "outputs": [],
   "source": [
    "def aa_ttest(mu,mu_0,cov,n_max,size):\n",
    "    x_0=[]\n",
    "    n_0=[]\n",
    "    for i in range(size):\n",
    "        z_0 = list(np.random.multivariate_normal(mu, cov)[:np.random.randint(1, n_max)])\n",
    "        n_0 = n_0+[len(z_0)]\n",
    "        x_0 = x_0+z_0\n",
    "    x_1=[]\n",
    "    n_1=[]\n",
    "    for i in range(size):\n",
    "        z_1 = list(np.random.multivariate_normal(mu, cov)[:np.random.randint(1, n_max)])\n",
    "        n_1 = n_1+[len(z_1)]\n",
    "        x_1 = x_1+z_1    \n",
    "    return ttest_ind(np.array(x_0),np.array(x_1)).pvalue"
   ]
  },
  {
   "cell_type": "code",
   "execution_count": 9,
   "id": "671fc34b",
   "metadata": {},
   "outputs": [],
   "source": [
    "def aa_tester(N,alpha,mu,mu_0,cov,n_max,size):\n",
    "    M=0\n",
    "    for i in range(N):\n",
    "        if aa_ttest(mu,mu_0,cov,n_max,size)<alpha:\n",
    "            M=M+1\n",
    "    p = M/N\n",
    "    t_stat = t.ppf(1-alpha/2, N-1)\n",
    "    se = (p*(1-p)/N)**0.5\n",
    "    return [p-t_stat*se,p,p+t_stat*se]"
   ]
  },
  {
   "cell_type": "code",
   "execution_count": 57,
   "id": "480503e3",
   "metadata": {},
   "outputs": [
    {
     "data": {
      "text/plain": [
       "[0.14196650771182898, 0.165, 0.18803349228817104]"
      ]
     },
     "execution_count": 57,
     "metadata": {},
     "output_type": "execute_result"
    }
   ],
   "source": [
    "aa_tester(1000,0.05,[0]*5,0,[[1,0.5,0.5,0.5,0.5],\n",
    "                    [0.5,1,0.5,0.5,0.5],\n",
    "                    [0.5,0.5,1,0.5,0.5],\n",
    "                    [0.5,0.5,0.5,1,0.5],\n",
    "                    [0.5,0.5,0.5,0.5,1]],5,500)"
   ]
  },
  {
   "cell_type": "code",
   "execution_count": 15,
   "id": "899934e2",
   "metadata": {},
   "outputs": [],
   "source": [
    "def aa_ttest_delta(mu,mu_0,cov,n_max,size):\n",
    "    x=[]\n",
    "    n=[]\n",
    "    for i in range(size):\n",
    "        z = list(np.random.multivariate_normal(mu, cov)[:np.random.randint(1, n_max)])\n",
    "        n = n+[len(z)]\n",
    "        x = x+[sum(z)]\n",
    "        \n",
    "    z_mean = sum(x)/len(n)\n",
    "    z_var = np.array(x).std()**2\n",
    "    y_mean = sum(n)/len(n)\n",
    "    y_var = np.array(n).std()**2\n",
    "    cov_0 = np.cov(x,n)[0,1]\n",
    "    \n",
    "    var = 1/len(n)*(z_var/y_mean**2+z_mean**2/y_mean**4*y_var-2*z_mean/y_mean**3*cov_0)\n",
    "    \n",
    "    \n",
    "    x_1=[]\n",
    "    n_1=[]\n",
    "    for i in range(size):\n",
    "        z = list(np.random.multivariate_normal(mu, cov)[:np.random.randint(1, n_max)])\n",
    "        n_1 = n_1+[len(z)]\n",
    "        x_1 = x_1+[sum(z)]\n",
    "        \n",
    "    z_mean_1 = sum(x_1)/len(n_1)\n",
    "    z_var_1 = np.array(x_1).std()**2\n",
    "    y_mean_1 = sum(n_1)/len(n_1)\n",
    "    y_var_1 = np.array(n_1).std()**2\n",
    "    cov_1 = np.cov(x_1,n_1)[0,1]\n",
    "    \n",
    "    var_1 = 1/len(n_1)*(z_var_1/y_mean_1**2+z_mean_1**2/y_mean_1**4*y_var_1-2*z_mean_1/y_mean_1**3*cov_1)\n",
    "    \n",
    "    stat = (z_mean/y_mean-z_mean_1/y_mean_1)/(var+var_1)**0.5\n",
    "    \n",
    "    \n",
    "    \n",
    "    return t.cdf(stat, len(2*n)-2)"
   ]
  },
  {
   "cell_type": "code",
   "execution_count": 16,
   "id": "55f087e7",
   "metadata": {},
   "outputs": [],
   "source": [
    "def aa_tester_delta(N,alpha,mu,mu_0,cov,n_max,size):\n",
    "    M=0\n",
    "    for i in range(N):\n",
    "        if aa_ttest_delta(mu,mu_0,cov,n_max,size)<alpha:\n",
    "            M=M+1\n",
    "    p = M/N\n",
    "    t_stat = t.ppf(1-alpha/2, N-1)\n",
    "    se = (p*(1-p)/N)**0.5\n",
    "    return [p-t_stat*se,p,p+t_stat*se]"
   ]
  },
  {
   "cell_type": "code",
   "execution_count": 19,
   "id": "7a2ae230",
   "metadata": {},
   "outputs": [
    {
     "data": {
      "text/plain": [
       "[0.03300046902774957, 0.046, 0.05899953097225043]"
      ]
     },
     "execution_count": 19,
     "metadata": {},
     "output_type": "execute_result"
    }
   ],
   "source": [
    "aa_tester_delta(1000,0.05,[0]*5,0,[[1,0.5,0.5,0.5,0.5],\n",
    "                    [0.5,1,0.5,0.5,0.5],\n",
    "                    [0.5,0.5,1,0.5,0.5],\n",
    "                    [0.5,0.5,0.5,1,0.5],\n",
    "                    [0.5,0.5,0.5,0.5,1]],5,500)"
   ]
  },
  {
   "cell_type": "code",
   "execution_count": 54,
   "id": "6df1abf9",
   "metadata": {},
   "outputs": [],
   "source": [
    "def aa_ttest_linearization(mu,mu_0,cov,n_max,size):\n",
    "    x_0=[]\n",
    "    n_0=[]\n",
    "    for i in range(size):\n",
    "        z_0 = list(np.random.multivariate_normal(mu, cov)[:np.random.randint(1, n_max)])\n",
    "        n_0 = n_0+[len(z_0)]\n",
    "        x_0.append(sum(z_0))\n",
    "    x_1=[]\n",
    "    n_1=[]\n",
    "    for i in range(size):\n",
    "        z_1 = list(np.random.multivariate_normal(mu, cov)[:np.random.randint(1, n_max)])\n",
    "        n_1 = n_1+[len(z_1)]\n",
    "        x_1.append(sum(z_1))\n",
    "        \n",
    "    R_cnt = np.array(x_0).mean()\n",
    "    \n",
    "    cnt = np.array(x_0) - R_cnt*np.array(n_0)\n",
    "    test = np.array(x_1) - R_cnt*np.array(n_1)\n",
    "    \n",
    "    return ttest_ind(cnt,test).pvalue\n"
   ]
  },
  {
   "cell_type": "code",
   "execution_count": 55,
   "id": "c06147b4",
   "metadata": {},
   "outputs": [],
   "source": [
    "def aa_tester_linearization(N,alpha,mu,mu_0,cov,n_max,size):\n",
    "    M=0\n",
    "    for i in range(N):\n",
    "        if aa_ttest_linearization(mu,mu_0,cov,n_max,size)<alpha:\n",
    "            M=M+1\n",
    "    p = M/N\n",
    "    t_stat = t.ppf(1-alpha/2, N-1)\n",
    "    se = (p*(1-p)/N)**0.5\n",
    "    return [p-t_stat*se,p,p+t_stat*se]"
   ]
  },
  {
   "cell_type": "code",
   "execution_count": 56,
   "id": "7f248f72",
   "metadata": {},
   "outputs": [
    {
     "data": {
      "text/plain": [
       "[0.035604378174721625, 0.049, 0.06239562182527838]"
      ]
     },
     "execution_count": 56,
     "metadata": {},
     "output_type": "execute_result"
    }
   ],
   "source": [
    "aa_tester_linearization(1000,0.05,[0]*5,0,[[1,0.5,0.5,0.5,0.5],\n",
    "                    [0.5,1,0.5,0.5,0.5],\n",
    "                    [0.5,0.5,1,0.5,0.5],\n",
    "                    [0.5,0.5,0.5,1,0.5],\n",
    "                    [0.5,0.5,0.5,0.5,1]],5,500)"
   ]
  }
 ],
 "metadata": {
  "kernelspec": {
   "display_name": "Python 3 (ipykernel)",
   "language": "python",
   "name": "python3"
  },
  "language_info": {
   "codemirror_mode": {
    "name": "ipython",
    "version": 3
   },
   "file_extension": ".py",
   "mimetype": "text/x-python",
   "name": "python",
   "nbconvert_exporter": "python",
   "pygments_lexer": "ipython3",
   "version": "3.9.13"
  }
 },
 "nbformat": 4,
 "nbformat_minor": 5
}
